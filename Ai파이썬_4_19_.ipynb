{
  "nbformat": 4,
  "nbformat_minor": 0,
  "metadata": {
    "colab": {
      "provenance": [],
      "authorship_tag": "ABX9TyO8LnOUkArCdqE1Im+D94ac",
      "include_colab_link": true
    },
    "kernelspec": {
      "name": "python3",
      "display_name": "Python 3"
    },
    "language_info": {
      "name": "python"
    }
  },
  "cells": [
    {
      "cell_type": "markdown",
      "metadata": {
        "id": "view-in-github",
        "colab_type": "text"
      },
      "source": [
        "<a href=\"https://colab.research.google.com/github/sklee01061/AIPython/blob/main/Ai%ED%8C%8C%EC%9D%B4%EC%8D%AC_4_19_.ipynb\" target=\"_parent\"><img src=\"https://colab.research.google.com/assets/colab-badge.svg\" alt=\"Open In Colab\"/></a>"
      ]
    },
    {
      "cell_type": "code",
      "execution_count": null,
      "metadata": {
        "id": "BCKOpepU5Ky7"
      },
      "outputs": [],
      "source": [
        "while True:\n",
        "    score = input(\"학생의 점수를 입력하세요 (종료하려면 q를 입력하세요): \")\n",
        "\n",
        "    # 입력이 'q'이면 반복 종료\n",
        "    if score.lower() == 'q':\n",
        "        break\n",
        "\n",
        "    # 입력이 숫자인지 확인\n",
        "    if not score.isdigit():\n",
        "        print(\"숫자를 입력해주세요. 종료합니다.\")\n",
        "        break\n",
        "\n",
        "    # 입력을 정수로 변환하여 리스트에 추가\n",
        "    scores.append(int(score))\n",
        "\n",
        "# 모든 학생들의 합계, 총인원수, 평균 계산\n",
        "total_score = sum(scores)\n",
        "num_students = len(scores)\n",
        "average_score = total_score / num_students\n",
        "\n",
        "# 결과 출력\n",
        "print(f\"모든 학생들의 합계: {total_score}\")\n",
        "print(f\"총인원수: {num_students}\")\n",
        "print(f\"평균 점수: {average_score:.2f}\")"
      ]
    },
    {
      "cell_type": "code",
      "source": [
        "1.scroe[]\n",
        "2.while True:\n",
        "3 scroe=input(\"학생의 점수를 입력하세요!\")\n",
        "4.if score.isdigit()\n",
        "5. score. append(score)\n",
        "6. else:\n",
        "breakprint(scorese)"
      ],
      "metadata": {
        "id": "-1mseMId_y9A"
      },
      "execution_count": null,
      "outputs": []
    },
    {
      "cell_type": "code",
      "source": [
        "scores = []  # 점수를 저장할 리스트 생성\n",
        "\n",
        "while True:\n",
        "    score = input(\"학생의 점수를 입력하세요! (종료하려면 q를 입력하세요): \")\n",
        "\n",
        "    if score.lower() == 'q':  # 종료 조건\n",
        "        break\n",
        "\n",
        "    if score.isdigit():  # 입력값이 숫자인지 확인\n",
        "        scores.append(int(score))  # 숫자를 리스트에 추가\n",
        "    else:\n",
        "        print(\"숫자를 입력해주세요. 종료합니다.\")\n",
        "        break\n",
        "\n",
        "print(\"입력된 점수:\", scores)  # 입력된 점수 출력"
      ],
      "metadata": {
        "id": "55lKnLvwA9og"
      },
      "execution_count": null,
      "outputs": []
    },
    {
      "cell_type": "code",
      "source": [
        "1.scores[]\n",
        "2.while True:\n",
        "3 scroes = input(\"학생의 점수를 입력하세요!\")\n",
        "4.if score.isdigit()\n",
        "5. score. append(scores)\n",
        "6. else:\n",
        "7. break\n",
        "8. print(\"입력 데이터 출력 : \", scores)\n",
        "9.\n"
      ],
      "metadata": {
        "id": "Saxq5eeWBN5x"
      },
      "execution_count": null,
      "outputs": []
    },
    {
      "cell_type": "code",
      "source": [
        "# 중간고사 vscode or oj에서 바로\n",
        "# 플라토에 소스\n",
        "# vs 코드 폴더 / 파일 만들고 제출\n",
        "# vs 오픈폴더로해서 폴더 하나 만들어  우측하단 install"
      ],
      "metadata": {
        "id": "yX7zdSUWC7tf"
      },
      "execution_count": null,
      "outputs": []
    },
    {
      "cell_type": "code",
      "source": [
        "vs 오픈폴더로해서 폴더 하나 만들어"
      ],
      "metadata": {
        "id": "MARcNmvdDEaP"
      },
      "execution_count": null,
      "outputs": []
    },
    {
      "cell_type": "code",
      "source": [
        "우측하단 install"
      ],
      "metadata": {
        "id": "glFZezhXDwqe"
      },
      "execution_count": null,
      "outputs": []
    },
    {
      "cell_type": "code",
      "source": [
        "even_numbers = []\n",
        "\n",
        "for i in range(10):\n",
        "    if i % 2 == 0:\n",
        "        even_numbers.append(i)\n",
        "\n",
        "print(\"짝수:\", even_numbers)"
      ],
      "metadata": {
        "id": "q_aGUSxIEwWQ"
      },
      "execution_count": null,
      "outputs": []
    },
    {
      "cell_type": "code",
      "source": [
        "numbers = [1, 2, 3, 4, 5, 6, 7, 8, 9, 10]\n",
        "\n",
        "# numbers 리스트에서 짝수만 필터링하여 새로운 리스트 생성\n",
        "even_numbers = list(filter(lambda x: x % 2 == 0, numbers))\n",
        "\n",
        "print(\"Output:\", even_numbers)\n"
      ],
      "metadata": {
        "id": "9suSElSYQLRC"
      },
      "execution_count": null,
      "outputs": []
    },
    {
      "cell_type": "code",
      "source": [
        "languages = ['Python', 'Java', 'JavaScript']\n",
        "\n",
        "# enumerate() 함수를 사용하여 인덱스와 값을 포함하는 튜플을 생성하고 리스트로 변환\n",
        "result = list(enumerate(languages))\n",
        "\n",
        "print(\"Output:\", result)"
      ],
      "metadata": {
        "id": "RapAU19IRWeC"
      },
      "execution_count": null,
      "outputs": []
    },
    {
      "cell_type": "code",
      "source": [
        "Input : ['Python', 'Java', 'JavaScript']\n",
        "Output : [(1, 'Python'), (2, 'Java'), (3, 'JavaScript')]"
      ],
      "metadata": {
        "id": "1z5aM8E0R3va"
      },
      "execution_count": null,
      "outputs": []
    },
    {
      "cell_type": "code",
      "source": [],
      "metadata": {
        "id": "R1fiWls8UpKu"
      },
      "execution_count": null,
      "outputs": []
    },
    {
      "cell_type": "code",
      "source": [
        "def convert_to_grade(score):\n",
        "if score >= 90:\n",
        "return 'A'\n",
        "elif score >= 80:\n",
        "return 'B'\n",
        "elif score >= 70:\n",
        "return 'C'\n",
        "elif score >= 60:\n",
        "return 'D'\n",
        "else:\n",
        "return 'F'"
      ],
      "metadata": {
        "id": "Wc9Sq3lGS4vR"
      },
      "execution_count": null,
      "outputs": []
    },
    {
      "cell_type": "code",
      "source": [
        "ages = [5, 12, 17, 18, 24, 32]\n",
        "\n",
        "# 주어진 조건을 충족하는 함수 정의\n",
        "def myFunc(x):\n",
        "    if x < 18:\n",
        "        return False\n",
        "    else:\n",
        "        return True\n",
        "\n",
        "# filter() 함수를 사용하여 18세 이상의 나이만 추출하여 리스트로 변환\n",
        "filtered_ages = list(filter(myFunc, ages))\n",
        "\n",
        "print(\"Output:\", filtered_ages)"
      ],
      "metadata": {
        "id": "MNTNmnmQUp7s"
      },
      "execution_count": null,
      "outputs": []
    },
    {
      "cell_type": "code",
      "source": [
        "# lamda or function 사용\n",
        "# 6과 까지 시험\n",
        "필기 21 4지선다 단답형 / 치트시트 강의 노트 활용 가능  python cheat sheet 한장짜리에 문법축약 요약해놓은거 ppt는 허용  idla 가능\n",
        "\n",
        "oj 실기 oj에 컨테스트 하나 만들어 질거임 시험칠때 알려줄거임 문제 실행\n",
        "\n",
        "입출력 숫자만 -> 숫자로 답\n",
        "\n",
        "1000 ~ 1003 번까지 풀어보면 훈련됨\n",
        "\n"
      ],
      "metadata": {
        "id": "OI7O_R3EW_kb"
      },
      "execution_count": null,
      "outputs": []
    }
  ]
}
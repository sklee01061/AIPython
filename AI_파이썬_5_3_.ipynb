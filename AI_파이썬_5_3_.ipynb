{
  "nbformat": 4,
  "nbformat_minor": 0,
  "metadata": {
    "colab": {
      "provenance": [],
      "authorship_tag": "ABX9TyMKOcLEEoIqzPfCZWhl8dNP",
      "include_colab_link": true
    },
    "kernelspec": {
      "name": "python3",
      "display_name": "Python 3"
    },
    "language_info": {
      "name": "python"
    }
  },
  "cells": [
    {
      "cell_type": "markdown",
      "metadata": {
        "id": "view-in-github",
        "colab_type": "text"
      },
      "source": [
        "<a href=\"https://colab.research.google.com/github/sklee01061/AIPython/blob/main/AI_%ED%8C%8C%EC%9D%B4%EC%8D%AC_5_3_.ipynb\" target=\"_parent\"><img src=\"https://colab.research.google.com/assets/colab-badge.svg\" alt=\"Open In Colab\"/></a>"
      ]
    },
    {
      "cell_type": "code",
      "execution_count": 1,
      "metadata": {
        "colab": {
          "base_uri": "https://localhost:8080/"
        },
        "id": "wni88GTeAz0Q",
        "outputId": "f535cae4-d30c-42bb-8d57-81db35fa0a8c"
      },
      "outputs": [
        {
          "output_type": "stream",
          "name": "stdout",
          "text": [
            "[1 3 5 7 9]\n"
          ]
        }
      ],
      "source": [
        "import numpy as np\n",
        "\n",
        "array1 = np.arange(1, 10, 2)\n",
        "print(array1)"
      ]
    },
    {
      "cell_type": "code",
      "source": [
        "array2 = np.ones((3, 4))\n",
        "print(array2)\n"
      ],
      "metadata": {
        "colab": {
          "base_uri": "https://localhost:8080/"
        },
        "id": "wdQnI2LiUEVQ",
        "outputId": "5c89815f-d79e-478b-9d49-9cf27a12a698"
      },
      "execution_count": 2,
      "outputs": [
        {
          "output_type": "stream",
          "name": "stdout",
          "text": [
            "[[1. 1. 1. 1.]\n",
            " [1. 1. 1. 1.]\n",
            " [1. 1. 1. 1.]]\n"
          ]
        }
      ]
    },
    {
      "cell_type": "code",
      "source": [
        "array3 = np.linspace(0, 1, 10)\n",
        "print(array3)"
      ],
      "metadata": {
        "colab": {
          "base_uri": "https://localhost:8080/"
        },
        "id": "KH8x7WjYUHA_",
        "outputId": "b011bbb4-9a7c-43b4-c416-e1fffc4e11f0"
      },
      "execution_count": 3,
      "outputs": [
        {
          "output_type": "stream",
          "name": "stdout",
          "text": [
            "[0.         0.11111111 0.22222222 0.33333333 0.44444444 0.55555556\n",
            " 0.66666667 0.77777778 0.88888889 1.        ]\n"
          ]
        }
      ]
    },
    {
      "cell_type": "code",
      "source": [
        "import numpy as np\n",
        "arr1 = np.ones([3,4])\n",
        "print(arr1)\n",
        "print('size :', arr1.size)\n",
        "print('dtype :', arr1.dtype)\n",
        "print('shape :', arr1.shape)\n",
        "print('ndim :',arr1.ndim)"
      ],
      "metadata": {
        "colab": {
          "base_uri": "https://localhost:8080/"
        },
        "id": "6K2W-8vwWdVw",
        "outputId": "dd0de4c3-115b-458a-b06f-feddd13100b1"
      },
      "execution_count": 4,
      "outputs": [
        {
          "output_type": "stream",
          "name": "stdout",
          "text": [
            "[[1. 1. 1. 1.]\n",
            " [1. 1. 1. 1.]\n",
            " [1. 1. 1. 1.]]\n",
            "size : 12\n",
            "dtype : float64\n",
            "shape : (3, 4)\n",
            "ndim : 2\n"
          ]
        }
      ]
    },
    {
      "cell_type": "code",
      "source": [
        "import numpy as np\n",
        "\n",
        "# 1. A행렬 생성\n",
        "A = np.array([\n",
        "    [1, 2, 3, 4, 5],\n",
        "    [6, 7, 8, 9, 10],\n",
        "    [11, 12, 13, 14, 15],\n",
        "    [16, 17, 18, 19, 20],\n",
        "    [21, 22, 23, 24, 25]\n",
        "])\n",
        "\n",
        "# 2. A의 모양(shape) 출력\n",
        "print(\"Shape of A:\", A.shape)\n",
        "\n",
        "# 3. 19 값을 추출\n",
        "value_19 = A[3, 3]\n",
        "print(\"Value at position (3, 3):\", value_19)\n",
        "\n",
        "# 4. [[1, 2], [6, 7]] 값을 추출\n",
        "slice1 = A[:2, :2]\n",
        "print(\"Sliced array 1:\")\n",
        "print(slice1)\n",
        "\n",
        "# 5. [[19, 20], [24, 25]] 값을 추출\n",
        "slice2 = A[3:5, 3:5]\n",
        "print(\"Sliced array 2:\")\n",
        "print(slice2)\n",
        "\n",
        "# 6. 0축의 첫 번째 행과 두 번째 행을 추출\n",
        "rows = A[:2, :]\n",
        "print(\"Rows 1 and 2:\")\n",
        "print(rows)\n",
        "\n",
        "# 7. 1축의 마지막 열과 마지막 직전 열을 추출\n",
        "columns = A[:, -2:]\n",
        "print(\"Last two columns:\")\n",
        "print(columns)\n"
      ],
      "metadata": {
        "colab": {
          "base_uri": "https://localhost:8080/"
        },
        "id": "QFE6-miZY4Dh",
        "outputId": "d41ad01e-ad27-405c-8a47-2a980786b241"
      },
      "execution_count": 5,
      "outputs": [
        {
          "output_type": "stream",
          "name": "stdout",
          "text": [
            "Shape of A: (5, 5)\n",
            "Value at position (3, 3): 19\n",
            "Sliced array 1:\n",
            "[[1 2]\n",
            " [6 7]]\n",
            "Sliced array 2:\n",
            "[[19 20]\n",
            " [24 25]]\n",
            "Rows 1 and 2:\n",
            "[[ 1  2  3  4  5]\n",
            " [ 6  7  8  9 10]]\n",
            "Last two columns:\n",
            "[[ 4  5]\n",
            " [ 9 10]\n",
            " [14 15]\n",
            " [19 20]\n",
            " [24 25]]\n"
          ]
        }
      ]
    }
  ]
}
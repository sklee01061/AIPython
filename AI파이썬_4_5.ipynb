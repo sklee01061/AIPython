{
  "nbformat": 4,
  "nbformat_minor": 0,
  "metadata": {
    "colab": {
      "provenance": [],
      "authorship_tag": "ABX9TyM7OWm7ph9PtQ2XyL8HRvu2",
      "include_colab_link": true
    },
    "kernelspec": {
      "name": "python3",
      "display_name": "Python 3"
    },
    "language_info": {
      "name": "python"
    }
  },
  "cells": [
    {
      "cell_type": "markdown",
      "metadata": {
        "id": "view-in-github",
        "colab_type": "text"
      },
      "source": [
        "<a href=\"https://colab.research.google.com/github/sklee01061/AIPython/blob/main/AI%ED%8C%8C%EC%9D%B4%EC%8D%AC_4_5.ipynb\" target=\"_parent\"><img src=\"https://colab.research.google.com/assets/colab-badge.svg\" alt=\"Open In Colab\"/></a>"
      ]
    },
    {
      "cell_type": "code",
      "execution_count": null,
      "metadata": {
        "colab": {
          "base_uri": "https://localhost:8080/"
        },
        "id": "LnPivICH5h65",
        "outputId": "5ec2c49d-d830-495d-9d42-bcc3359a14ea"
      },
      "outputs": [
        {
          "output_type": "stream",
          "name": "stdout",
          "text": [
            "주어진 변수는 짝수입니다.\n"
          ]
        }
      ],
      "source": [
        "# 변수에 할당된 값\n",
        "a = 10\n",
        "\n",
        "# 주어진 변수가 짝수인지 여부 확인\n",
        "if a % 2 == 0:\n",
        "    print(\"주어진 변수는 짝수입니다.\")\n",
        "else:\n",
        "    print(\"주어진 변수는 홀수입니다.\")"
      ]
    },
    {
      "cell_type": "code",
      "source": [
        "# 사용자로부터 값을 입력받음\n",
        "a = int(input(\"값을 입력하세요: \"))\n",
        "\n",
        "# 주어진 변수가 짝수인지 여부 확인\n",
        "if a % 2 == 0:\n",
        "    print(\"주어진 변수는 짝수입니다.\")\n",
        "else:\n",
        "    print(\"주어진 변수는 홀수입니다.\")"
      ],
      "metadata": {
        "colab": {
          "base_uri": "https://localhost:8080/"
        },
        "id": "x9J3hzv36YEZ",
        "outputId": "73461a9f-42ce-4412-df97-e5e59487aa77"
      },
      "execution_count": null,
      "outputs": [
        {
          "output_type": "stream",
          "name": "stdout",
          "text": [
            "값을 입력하세요: 2\n",
            "주어진 변수는 짝수입니다.\n"
          ]
        }
      ]
    },
    {
      "cell_type": "code",
      "source": [
        "# 사용자로부터 값을 입력받음\n",
        "a = int(input(\"값을 입력하세요: \"))\n",
        "\n",
        "# 주어진 변수가 5보다 큰지 작은지 확인\n",
        "if a > 5:\n",
        "    print(\"주어진 변수는 5보다 큽니다.\")\n",
        "elif a < 5:\n",
        "    print(\"주어진 변수는 5보다 작습니다.\")\n",
        "else:\n",
        "    print(\"주어진 변수는 5입니다.\")"
      ],
      "metadata": {
        "id": "wZsvF9E47CZR"
      },
      "execution_count": null,
      "outputs": []
    },
    {
      "cell_type": "code",
      "source": [
        "a = 10\n",
        "b = 5\n",
        "if a > 5:\n",
        "    if b < 10:\n",
        "        print(\"a는 5보다 크고 b는 10보다 작습니다.\")"
      ],
      "metadata": {
        "colab": {
          "base_uri": "https://localhost:8080/"
        },
        "id": "eNNH2EmJ9c4g",
        "outputId": "555a76b9-9673-4c2d-e660-ba7e8f7150dd"
      },
      "execution_count": null,
      "outputs": [
        {
          "output_type": "stream",
          "name": "stdout",
          "text": [
            "a는 5보다 크고 b는 10보다 작습니다.\n"
          ]
        }
      ]
    },
    {
      "cell_type": "code",
      "source": [
        "# 사용자로부터 점수 입력 받기\n",
        "score = int(input(\"점수를 입력하세요: \"))\n",
        "\n",
        "# 등급 계산\n",
        "if score >= 90:\n",
        "    grade = \"A\"\n",
        "elif score >= 80:\n",
        "    grade = \"B\"\n",
        "elif score >= 70:\n",
        "    grade = \"C\"\n",
        "elif score >= 60:\n",
        "    grade = \"D\"\n",
        "else:\n",
        "    grade = \"F\"\n",
        "\n",
        "# 결과 출력\n",
        "print(\"등급은\", grade, \"입니다.\")\n",
        "\n",
        "# 거꾸로 넣으면 문제가 생겨 첫조건 60 이상이면 100 넣어도 d임"
      ],
      "metadata": {
        "colab": {
          "base_uri": "https://localhost:8080/"
        },
        "id": "KcxElggk-D0I",
        "outputId": "20d7fbc5-be9e-4f1a-a193-e5cda3bccb46"
      },
      "execution_count": null,
      "outputs": [
        {
          "output_type": "stream",
          "name": "stdout",
          "text": [
            "점수를 입력하세요: 88\n",
            "등급은 B 입니다.\n"
          ]
        }
      ]
    },
    {
      "cell_type": "code",
      "source": [
        "a = [1, 2, 3, 4, 5]\n",
        "for i in a:\n",
        "    print(i)"
      ],
      "metadata": {
        "colab": {
          "base_uri": "https://localhost:8080/"
        },
        "id": "l-QSCssU_6Sp",
        "outputId": "e17417ac-decf-49e2-93cd-889e68085223"
      },
      "execution_count": null,
      "outputs": [
        {
          "output_type": "stream",
          "name": "stdout",
          "text": [
            "1\n",
            "2\n",
            "3\n",
            "4\n",
            "5\n"
          ]
        }
      ]
    },
    {
      "cell_type": "code",
      "source": [
        "for i in range(1, 11):\n",
        "    print(i)"
      ],
      "metadata": {
        "colab": {
          "base_uri": "https://localhost:8080/"
        },
        "id": "PJYu22QrH0N2",
        "outputId": "1948edc9-0ca0-4771-8480-191050db57c8"
      },
      "execution_count": null,
      "outputs": [
        {
          "output_type": "stream",
          "name": "stdout",
          "text": [
            "1\n",
            "2\n",
            "3\n",
            "4\n",
            "5\n",
            "6\n",
            "7\n",
            "8\n",
            "9\n",
            "10\n"
          ]
        }
      ]
    },
    {
      "cell_type": "code",
      "source": [
        "for i in range(1, 101, 2):\n",
        "    print(i)"
      ],
      "metadata": {
        "id": "5ZG9GRhTISGl"
      },
      "execution_count": null,
      "outputs": []
    },
    {
      "cell_type": "code",
      "source": [
        "for i in range(1, 11):\n",
        "    if i % 2 == 0:\n",
        "        continue\n",
        "    print(i)"
      ],
      "metadata": {
        "id": "fdlIanDnKAP6"
      },
      "execution_count": null,
      "outputs": []
    },
    {
      "cell_type": "code",
      "source": [
        "for i in range(5):\n",
        "    if i % 2 == 0:\n",
        "        continue\n",
        "    print(i)\n",
        "    break"
      ],
      "metadata": {
        "id": "0vCs23EFKMK0"
      },
      "execution_count": null,
      "outputs": []
    },
    {
      "cell_type": "code",
      "source": [
        "# break 를 사용한 문제"
      ],
      "metadata": {
        "id": "rDOkBxOzKbDM"
      },
      "execution_count": null,
      "outputs": []
    },
    {
      "cell_type": "code",
      "source": [
        "# 홀수와 짝수의 합을 저장할 변수 초기화\n",
        "odd_sum = 0\n",
        "even_sum = 0\n",
        "\n",
        "# 1부터 100까지 반복하면서 홀수와 짝수의 합을 구함\n",
        "for i in range(1, 101):\n",
        "    if i % 2 == 0:  # 짝수인 경우\n",
        "        even_sum += i\n",
        "    else:           # 홀수인 경우\n",
        "        odd_sum += i\n",
        "\n",
        "# 결과 출력\n",
        "print(\"홀수의 합:\", odd_sum)\n",
        "print(\"짝수의 합:\", even_sum)"
      ],
      "metadata": {
        "colab": {
          "base_uri": "https://localhost:8080/"
        },
        "id": "LVmlsgv2Kesc",
        "outputId": "d835403d-1da2-4ae0-ca85-a4c65ee06431"
      },
      "execution_count": 1,
      "outputs": [
        {
          "output_type": "stream",
          "name": "stdout",
          "text": [
            "홀수의 합: 2500\n",
            "짝수의 합: 2550\n"
          ]
        }
      ]
    },
    {
      "cell_type": "code",
      "source": [
        "# 숫자 n 입력 받기\n",
        "n = int(input())\n",
        "\n",
        "# 1부터 n까지의 합을 저장할 변수 초기화\n",
        "total_sum = 0\n",
        "\n",
        "# 1부터 n까지의 숫자를 반복하면서 합을 계산\n",
        "for i in range(1, n + 1):\n",
        "    total_sum += i\n",
        "\n",
        "# 결과 출력\n",
        "print(total_sum)"
      ],
      "metadata": {
        "colab": {
          "base_uri": "https://localhost:8080/"
        },
        "id": "SEJe4HUcN0x8",
        "outputId": "a796f58e-cd9e-4b16-ae67-3c3c7e30fe16"
      },
      "execution_count": 2,
      "outputs": [
        {
          "output_type": "stream",
          "name": "stdout",
          "text": [
            "5\n",
            "15\n"
          ]
        }
      ]
    }
  ]
}
{
  "nbformat": 4,
  "nbformat_minor": 0,
  "metadata": {
    "colab": {
      "provenance": [],
      "authorship_tag": "ABX9TyMbiH8xck4+gXpm66YfrMGU",
      "include_colab_link": true
    },
    "kernelspec": {
      "name": "python3",
      "display_name": "Python 3"
    },
    "language_info": {
      "name": "python"
    }
  },
  "cells": [
    {
      "cell_type": "markdown",
      "metadata": {
        "id": "view-in-github",
        "colab_type": "text"
      },
      "source": [
        "<a href=\"https://colab.research.google.com/github/sklee01061/AIPython/blob/main/ai_%ED%8C%8C%EC%9D%B4%EC%8D%AC_3_29.ipynb\" target=\"_parent\"><img src=\"https://colab.research.google.com/assets/colab-badge.svg\" alt=\"Open In Colab\"/></a>"
      ]
    },
    {
      "cell_type": "code",
      "source": [],
      "metadata": {
        "id": "a8txrvrRBfmc"
      },
      "execution_count": null,
      "outputs": []
    },
    {
      "cell_type": "code",
      "source": [
        "# 사용자로부터 분 입력 받기\n",
        "minutes = int(input(\"분을 입력하세요: \"))\n",
        "\n",
        "# 시간과 분 계산\n",
        "hours = minutes // 60\n",
        "remaining_minutes = minutes % 60\n",
        "\n",
        "# 결과 출력\n",
        "print(f\"{minutes}분은 {hours}시간 {remaining_minutes}분 입니다.\")\n",
        "\n"
      ],
      "metadata": {
        "colab": {
          "base_uri": "https://localhost:8080/"
        },
        "id": "cfNBEIi5BgPW",
        "outputId": "027ef333-14da-4342-e566-dcb7b7dc3057"
      },
      "execution_count": 2,
      "outputs": [
        {
          "output_type": "stream",
          "name": "stdout",
          "text": [
            "분을 입력하세요: 100\n",
            "100분은 1시간 40분 입니다.\n"
          ]
        },
        {
          "output_type": "execute_result",
          "data": {
            "text/plain": [
              "100"
            ]
          },
          "metadata": {},
          "execution_count": 2
        }
      ]
    },
    {
      "cell_type": "code",
      "source": [
        "# 사용자로부터 섭씨 온도 입력 받기\n",
        "celsius = float(input(\"섭씨 온도를 입력하세요: \"))\n",
        "\n",
        "# 화씨 온도 계산\n",
        "fahrenheit = (celsius * 9/5) + 32\n",
        "\n",
        "# 결과 출력\n",
        "print(f\"섭씨 {celsius}도는 화씨 {fahrenheit:.2f}도입니다.\")"
      ],
      "metadata": {
        "colab": {
          "base_uri": "https://localhost:8080/"
        },
        "id": "U5loRdCyCrg3",
        "outputId": "ea5084a5-0206-4902-8c5b-306822179282"
      },
      "execution_count": 3,
      "outputs": [
        {
          "output_type": "stream",
          "name": "stdout",
          "text": [
            "섭씨 온도를 입력하세요: 31\n",
            "섭씨 31.0도는 화씨 87.80도입니다.\n"
          ]
        }
      ]
    },
    {
      "cell_type": "code",
      "source": [
        "# 원주율\n",
        "pi = 3.14\n",
        "\n",
        "# 사용자로부터 반지름 입력 받기\n",
        "radius = float(input(\"반지름을 입력하세요: \"))\n",
        "\n",
        "# 원의 둘레 계산\n",
        "circumference = 2 * pi * radius\n",
        "\n",
        "# 원의 면적 계산\n",
        "area = pi * (radius ** 2)\n",
        "\n",
        "# 결과 출력\n",
        "print(f\"반지름이 {radius}인 원의 둘레는 {circumference:.1f}이고 면적은 {area:.1f}입니다.\")"
      ],
      "metadata": {
        "colab": {
          "base_uri": "https://localhost:8080/"
        },
        "id": "tNExkfB-CuJ_",
        "outputId": "d58d6475-c811-44cd-b6e0-66c9e0e22628"
      },
      "execution_count": 4,
      "outputs": [
        {
          "output_type": "stream",
          "name": "stdout",
          "text": [
            "반지름을 입력하세요: 15\n",
            "반지름이 15.0인 원의 둘레는 94.2이고 면적은 706.5입니다.\n"
          ]
        }
      ]
    }
  ]
}
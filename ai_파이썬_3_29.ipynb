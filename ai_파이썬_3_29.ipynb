{
  "nbformat": 4,
  "nbformat_minor": 0,
  "metadata": {
    "colab": {
      "provenance": [],
      "authorship_tag": "ABX9TyMsJbHojfQKHxcNAlsdnEhN",
      "include_colab_link": true
    },
    "kernelspec": {
      "name": "python3",
      "display_name": "Python 3"
    },
    "language_info": {
      "name": "python"
    }
  },
  "cells": [
    {
      "cell_type": "markdown",
      "metadata": {
        "id": "view-in-github",
        "colab_type": "text"
      },
      "source": [
        "<a href=\"https://colab.research.google.com/github/sklee01061/AIPython/blob/main/ai_%ED%8C%8C%EC%9D%B4%EC%8D%AC_3_29.ipynb\" target=\"_parent\"><img src=\"https://colab.research.google.com/assets/colab-badge.svg\" alt=\"Open In Colab\"/></a>"
      ]
    },
    {
      "cell_type": "code",
      "source": [],
      "metadata": {
        "id": "a8txrvrRBfmc"
      },
      "execution_count": null,
      "outputs": []
    },
    {
      "cell_type": "code",
      "source": [
        "# 사용자로부터 분 입력 받기\n",
        "minutes = int(input(\"분을 입력하세요: \"))\n",
        "\n",
        "# 시간과 분 계산\n",
        "hours = minutes // 60\n",
        "remaining_minutes = minutes % 60\n",
        "\n",
        "# 결과 출력\n",
        "print(\"입력한 분은 {}시간 {}분 입니다.\".format(hours, remaining_minutes))"
      ],
      "metadata": {
        "colab": {
          "base_uri": "https://localhost:8080/"
        },
        "id": "cfNBEIi5BgPW",
        "outputId": "46863af6-92ad-4feb-8c72-34a41934355d"
      },
      "execution_count": 9,
      "outputs": [
        {
          "output_type": "stream",
          "name": "stdout",
          "text": [
            "분을 입력하세요: 100\n",
            "입력한 분은 1시간 40분 입니다.\n"
          ]
        }
      ]
    },
    {
      "cell_type": "code",
      "source": [
        "# 사용자로부터 섭씨 온도 입력 받기 (% 연산자 활용)\n",
        "celsius = float(input(\"섭씨 온도를 입력하세요: \"))\n",
        "\n",
        "# 화씨 온도 계산\n",
        "fahrenheit = (celsius * 9/5) + 32\n",
        "\n",
        "# 결과 출력\n",
        "print(f\"섭씨 {celsius}도는 화씨 {fahrenheit:.2f}도입니다.\")"
      ],
      "metadata": {
        "colab": {
          "base_uri": "https://localhost:8080/"
        },
        "id": "U5loRdCyCrg3",
        "outputId": "ea5084a5-0206-4902-8c5b-306822179282"
      },
      "execution_count": null,
      "outputs": [
        {
          "output_type": "stream",
          "name": "stdout",
          "text": [
            "섭씨 온도를 입력하세요: 31\n",
            "섭씨 31.0도는 화씨 87.80도입니다.\n"
          ]
        }
      ]
    },
    {
      "cell_type": "code",
      "source": [
        "# 사용자로부터 섭씨 온도 입력 받기\n",
        "celsius = float(input(\"섭씨 온도를 입력하세요: \"))\n",
        "\n",
        "# 화씨 온도 계산\n",
        "fahrenheit = celsius * 1.8 + 32\n",
        "\n",
        "# 결과 출력\n",
        "print(f\"섭씨 {celsius}도는 화씨 {fahrenheit:.1f}도 입니다.\")"
      ],
      "metadata": {
        "colab": {
          "base_uri": "https://localhost:8080/"
        },
        "id": "CSy1E85dFZHZ",
        "outputId": "b798d634-28c0-4312-8c87-1bb9e6b584c7"
      },
      "execution_count": 10,
      "outputs": [
        {
          "output_type": "stream",
          "name": "stdout",
          "text": [
            "섭씨 온도를 입력하세요: 31\n",
            "섭씨 31.0도는 화씨 87.8도 입니다.\n"
          ]
        }
      ]
    },
    {
      "cell_type": "code",
      "source": [
        "# 원주율\n",
        "pi = 3.14\n",
        "\n",
        "# 사용자로부터 반지름 입력 받기\n",
        "radius = float(input(\"반지름을 입력하세요: \"))\n",
        "\n",
        "# 원의 둘레 계산\n",
        "circumference = 2 * pi * radius\n",
        "\n",
        "# 원의 면적 계산\n",
        "area = pi * (radius ** 2)\n",
        "\n",
        "# 결과 출력\n",
        "print(f\"반지름이 {radius}인 원의 둘레는 {circumference:.1f}이고 면적은 {area:.1f}입니다.\")"
      ],
      "metadata": {
        "colab": {
          "base_uri": "https://localhost:8080/"
        },
        "id": "tNExkfB-CuJ_",
        "outputId": "d58d6475-c811-44cd-b6e0-66c9e0e22628"
      },
      "execution_count": null,
      "outputs": [
        {
          "output_type": "stream",
          "name": "stdout",
          "text": [
            "반지름을 입력하세요: 15\n",
            "반지름이 15.0인 원의 둘레는 94.2이고 면적은 706.5입니다.\n"
          ]
        }
      ]
    }
  ]
}
{
  "nbformat": 4,
  "nbformat_minor": 0,
  "metadata": {
    "colab": {
      "provenance": [],
      "authorship_tag": "ABX9TyPUTdj87jb8cb3JXpNeUOXY",
      "include_colab_link": true
    },
    "kernelspec": {
      "name": "python3",
      "display_name": "Python 3"
    },
    "language_info": {
      "name": "python"
    }
  },
  "cells": [
    {
      "cell_type": "markdown",
      "metadata": {
        "id": "view-in-github",
        "colab_type": "text"
      },
      "source": [
        "<a href=\"https://colab.research.google.com/github/sklee01061/AIPython/blob/main/ai_%ED%8C%8C%EC%9D%B4%EC%8D%AC_3_29.ipynb\" target=\"_parent\"><img src=\"https://colab.research.google.com/assets/colab-badge.svg\" alt=\"Open In Colab\"/></a>"
      ]
    },
    {
      "cell_type": "code",
      "source": [],
      "metadata": {
        "id": "a8txrvrRBfmc"
      },
      "execution_count": null,
      "outputs": []
    },
    {
      "cell_type": "code",
      "source": [
        "# 사용자로부터 분 입력 받기\n",
        "minutes = int(input(\"분을 입력하세요: \"))\n",
        "\n",
        "# 시간과 분 계산\n",
        "hours = minutes // 60\n",
        "remaining_minutes = minutes % 60\n",
        "\n",
        "# 결과 출력\n",
        "print(\"입력한 분은 {}시간 {}분 입니다.\".format(hours, remaining_minutes))"
      ],
      "metadata": {
        "colab": {
          "base_uri": "https://localhost:8080/"
        },
        "id": "cfNBEIi5BgPW",
        "outputId": "46863af6-92ad-4feb-8c72-34a41934355d"
      },
      "execution_count": null,
      "outputs": [
        {
          "output_type": "stream",
          "name": "stdout",
          "text": [
            "분을 입력하세요: 100\n",
            "입력한 분은 1시간 40분 입니다.\n"
          ]
        }
      ]
    },
    {
      "cell_type": "code",
      "source": [
        "# 사용자로부터 섭씨 온도 입력 받기 (% 연산자 활용)\n",
        "celsius = float(input(\"섭씨 온도를 입력하세요: \"))\n",
        "\n",
        "# 화씨 온도 계산\n",
        "fahrenheit = (celsius * 9/5) + 32\n",
        "\n",
        "# 결과 출력\n",
        "print(f\"섭씨 {celsius}도는 화씨 {fahrenheit:.2f}도입니다.\")"
      ],
      "metadata": {
        "colab": {
          "base_uri": "https://localhost:8080/"
        },
        "id": "U5loRdCyCrg3",
        "outputId": "ea5084a5-0206-4902-8c5b-306822179282"
      },
      "execution_count": null,
      "outputs": [
        {
          "output_type": "stream",
          "name": "stdout",
          "text": [
            "섭씨 온도를 입력하세요: 31\n",
            "섭씨 31.0도는 화씨 87.80도입니다.\n"
          ]
        }
      ]
    },
    {
      "cell_type": "code",
      "source": [
        "# 사용자로부터 섭씨 온도 입력 받기\n",
        "celsius = float(input(\"섭씨 온도를 입력하세요: \"))\n",
        "\n",
        "# 화씨 온도 계산\n",
        "fahrenheit = celsius * 1.8 + 32\n",
        "\n",
        "# 결과 출력\n",
        "print(f\"섭씨 {celsius}도는 화씨 {fahrenheit:.1f}도 입니다.\")"
      ],
      "metadata": {
        "id": "CSy1E85dFZHZ",
        "outputId": "b798d634-28c0-4312-8c87-1bb9e6b584c7",
        "colab": {
          "base_uri": "https://localhost:8080/"
        }
      },
      "execution_count": null,
      "outputs": [
        {
          "output_type": "stream",
          "name": "stdout",
          "text": [
            "섭씨 온도를 입력하세요: 31\n",
            "섭씨 31.0도는 화씨 87.8도 입니다.\n"
          ]
        }
      ]
    },
    {
      "cell_type": "code",
      "source": [
        "# 원주율\n",
        "pi = 3.14\n",
        "\n",
        "# 사용자로부터 반지름 입력 받기\n",
        "radius = float(input(\"반지름을 입력하세요: \"))\n",
        "\n",
        "# 원의 둘레 계산\n",
        "circumference = 2 * pi * radius\n",
        "\n",
        "# 원의 면적 계산\n",
        "area = pi * (radius ** 2)\n",
        "\n",
        "# 결과 출력\n",
        "print(f\"반지름이 {radius}인 원의 둘레는 {circumference:.1f}이고 면적은 {area:.1f}입니다.\")"
      ],
      "metadata": {
        "colab": {
          "base_uri": "https://localhost:8080/"
        },
        "id": "tNExkfB-CuJ_",
        "outputId": "d58d6475-c811-44cd-b6e0-66c9e0e22628"
      },
      "execution_count": null,
      "outputs": [
        {
          "output_type": "stream",
          "name": "stdout",
          "text": [
            "반지름을 입력하세요: 15\n",
            "반지름이 15.0인 원의 둘레는 94.2이고 면적은 706.5입니다.\n"
          ]
        }
      ]
    },
    {
      "cell_type": "code",
      "source": [
        "in_m = int(input(\"분을 입력하시오: \"))\n",
        "h = in_m // 60\n",
        "m = in_m % 60\n",
        "print(\"{:d}시간 {:d}분\".format(h, m))"
      ],
      "metadata": {
        "colab": {
          "base_uri": "https://localhost:8080/"
        },
        "id": "jrrGFBcOHQ0R",
        "outputId": "074c4fa7-6c1e-43f7-c971-849d3b574ce2"
      },
      "execution_count": 11,
      "outputs": [
        {
          "output_type": "stream",
          "name": "stdout",
          "text": [
            "분을 입력하시오: 1200\n",
            "20시간 0분\n"
          ]
        }
      ]
    },
    {
      "cell_type": "code",
      "source": [
        "PI = 3.14\n",
        "r = int(input(\"원의 반지름을 입력하세요: \"))\n",
        "circumference = 2 * PI * r\n",
        "area = PI * (r ** 2)\n",
        "print(\"반지름이 {}인 원의 둘레는 {:.2f}이고 면적은 {:.2f} 입니다.\".format(r, circumference, area))"
      ],
      "metadata": {
        "colab": {
          "base_uri": "https://localhost:8080/"
        },
        "id": "KCHzwpasIvDy",
        "outputId": "0d01ca53-64f1-415c-e669-b33d43005519"
      },
      "execution_count": 12,
      "outputs": [
        {
          "output_type": "stream",
          "name": "stdout",
          "text": [
            "원의 반지름을 입력하세요: 3\n",
            "반지름이 3인 원의 둘레는 18.84이고 면적은 28.26 입니다.\n"
          ]
        }
      ]
    },
    {
      "cell_type": "code",
      "source": [
        "#슬라이싱의 끝 인덱스는 포함되지 않습니다. 이것은 슬라이스가 시작 인덱스부터 끝 인덱스 직전까지의 요소를 포함한다는 것을 의미합니다. 이것은 파이썬의 슬라이싱이 범위를 지정할 때 시작점은 포함하지만, 끝점은 포함하지 않는 일관된 방식으로 작동함을 의미합니다.\n",
        "\n",
        "#예를 들어, my_list[1:4]의 경우 시작 인덱스는 1이고 끝 인덱스는 4입니다. 하지만 결과로 반환되는 리스트에는 인덱스 1부터 3까지의 요소가 포함됩니다.\n",
        "\n",
        "#즉, 슬라이싱을 사용할 때 끝 인덱스는 슬라이스의 범위에 포함되지 않습니다."
      ],
      "metadata": {
        "id": "tGSj7Sd9ML5b"
      },
      "execution_count": 14,
      "outputs": []
    }
  ]
}
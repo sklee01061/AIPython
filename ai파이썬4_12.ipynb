{
  "nbformat": 4,
  "nbformat_minor": 0,
  "metadata": {
    "colab": {
      "provenance": [],
      "authorship_tag": "ABX9TyMb5G8PGNiA/ln4EVMf8h3l",
      "include_colab_link": true
    },
    "kernelspec": {
      "name": "python3",
      "display_name": "Python 3"
    },
    "language_info": {
      "name": "python"
    }
  },
  "cells": [
    {
      "cell_type": "markdown",
      "metadata": {
        "id": "view-in-github",
        "colab_type": "text"
      },
      "source": [
        "<a href=\"https://colab.research.google.com/github/sklee01061/AIPython/blob/main/ai%ED%8C%8C%EC%9D%B4%EC%8D%AC4_12.ipynb\" target=\"_parent\"><img src=\"https://colab.research.google.com/assets/colab-badge.svg\" alt=\"Open In Colab\"/></a>"
      ]
    },
    {
      "cell_type": "code",
      "execution_count": null,
      "metadata": {
        "id": "h35Fv9Se4YR8"
      },
      "outputs": [],
      "source": [
        "    # list와 배열의 차이점 &  함수와 메소드의 차이점"
      ]
    },
    {
      "cell_type": "code",
      "source": [
        "  # 다음 리스트에서 \"APPLE\" 요소를 출력하세요.\n",
        "  FRUITS = [\"banana\", \"apple\", \"orange\", \"cherry\"]\n",
        "\n",
        "  # 다음 리스트에서 마지막 요소를 출력하세요.\n",
        "   numbers = [10, 20, 30, 40, 50]\n",
        "\n",
        " # 다음리스트에서 \"banana\" 요소를 \"grape\"로 변경하세요\n",
        "   fruits = [\"apple\",\"banana\",\"cherry\"]\n",
        "\n",
        " # 다음 리스트에 \"strawberry\" 요소를 추가하세요.\n",
        "   fruits = [\"apple\",\"banana\",\"cherry\"]\n",
        "\n",
        " # 다음 리스트에서 30을 제거하세요\n",
        "   numbers = [10, 20, 30, 40, 50]\n",
        "\n",
        " # 다음 리스트의 길이를 출력하세요.\n",
        "  numbers = [5, 10, 15, 20, 25]\n",
        "\n",
        " # 다음 리스트에서 가장 작은값 / 가장 큰 값을 찾아 출력\n",
        "  numbers = [10, 5, 8, 3, 15]\n",
        " # 다음 리스트의 모든 요소의 합을 계산하여 출력하세요.\n",
        "  numbers = [10, 20, 30, 40, 50]\n",
        " # 다음 리스트의 모든 요소를 제곱하여 새로운 리스트를 생성하세요.\n",
        "  numbers = [1, 2, 3, 4, 5]\n",
        " # 다음 리스트에서 \"apple\" 요소의 개수를 출력하세요\n",
        "  fruits =  [\"apple\",\"banana\",\"apple\", \"cherry\", \"apple\"]"
      ],
      "metadata": {
        "id": "8GEQ_2gt7hzw"
      },
      "execution_count": null,
      "outputs": []
    },
    {
      "cell_type": "code",
      "source": [
        "1. fruits = [\"banana\", \"apple\", \"orange\", \"cherry\"]\n",
        "2. print(fruits[1])"
      ],
      "metadata": {
        "colab": {
          "base_uri": "https://localhost:8080/",
          "height": 111
        },
        "id": "TQxSv1UJERkL",
        "outputId": "ebe02dff-f059-4fca-af52-221c8df70503"
      },
      "execution_count": 3,
      "outputs": [
        {
          "output_type": "error",
          "ename": "SyntaxError",
          "evalue": "invalid syntax (<ipython-input-3-0605dac18675>, line 1)",
          "traceback": [
            "\u001b[0;36m  File \u001b[0;32m\"<ipython-input-3-0605dac18675>\"\u001b[0;36m, line \u001b[0;32m1\u001b[0m\n\u001b[0;31m    1. fruits = [\"banana\", \"apple\", \"orange\", \"cherry\"]\u001b[0m\n\u001b[0m       ^\u001b[0m\n\u001b[0;31mSyntaxError\u001b[0m\u001b[0;31m:\u001b[0m invalid syntax\n"
          ]
        }
      ]
    },
    {
      "cell_type": "code",
      "source": [
        "fruits = [\"banana\", \"apple\", \"orange\", \"cherry\"]\n",
        "print(fruits[1])"
      ],
      "metadata": {
        "colab": {
          "base_uri": "https://localhost:8080/"
        },
        "id": "OoXj6MjqE1wU",
        "outputId": "96b7e10b-67f6-4db6-d152-4a3fad5711b3"
      },
      "execution_count": 4,
      "outputs": [
        {
          "output_type": "stream",
          "name": "stdout",
          "text": [
            "apple\n"
          ]
        }
      ]
    },
    {
      "cell_type": "code",
      "source": [
        "5. fruits = [\"apple\",\"banana\",\"cherry\"]\n",
        "fruits.append(\"strawberry\")\n",
        "print(fruits)"
      ],
      "metadata": {
        "colab": {
          "base_uri": "https://localhost:8080/",
          "height": 111
        },
        "id": "SdpL9yw9E6Lj",
        "outputId": "2d73cdc3-697b-4c6c-c9a1-06069da6a56e"
      },
      "execution_count": 6,
      "outputs": [
        {
          "output_type": "error",
          "ename": "SyntaxError",
          "evalue": "invalid syntax (<ipython-input-6-da63ccaa1ad6>, line 1)",
          "traceback": [
            "\u001b[0;36m  File \u001b[0;32m\"<ipython-input-6-da63ccaa1ad6>\"\u001b[0;36m, line \u001b[0;32m1\u001b[0m\n\u001b[0;31m    5. fruits = [\"apple\",\"banana\",\"cherry\"]\u001b[0m\n\u001b[0m       ^\u001b[0m\n\u001b[0;31mSyntaxError\u001b[0m\u001b[0;31m:\u001b[0m invalid syntax\n"
          ]
        }
      ]
    },
    {
      "cell_type": "code",
      "source": [
        "fruits = [\"apple\", \"banana\", \"cherry\"]\n",
        "fruits.append(\"strawberry\")\n",
        "print(fruits)\n"
      ],
      "metadata": {
        "colab": {
          "base_uri": "https://localhost:8080/"
        },
        "id": "Xi-9FHSNFhrh",
        "outputId": "8c5526df-7821-436a-fb48-2c23c6771d89"
      },
      "execution_count": 7,
      "outputs": [
        {
          "output_type": "stream",
          "name": "stdout",
          "text": [
            "['apple', 'banana', 'cherry', 'strawberry']\n"
          ]
        }
      ]
    },
    {
      "cell_type": "code",
      "source": [
        "numbers = [10,20,30,40,50]\n",
        "numbers.pop(2)\n",
        "print(numbers)\n"
      ],
      "metadata": {
        "colab": {
          "base_uri": "https://localhost:8080/"
        },
        "id": "_1s6f-ayFnKo",
        "outputId": "bbd6e07c-f40e-439a-cece-7fbb228c5379"
      },
      "execution_count": 10,
      "outputs": [
        {
          "output_type": "stream",
          "name": "stdout",
          "text": [
            "[10, 20, 40, 50]\n"
          ]
        }
      ]
    },
    {
      "cell_type": "code",
      "source": [
        "numbers = [1,2,3,4,5]\n",
        "new_list=[]\n",
        "for num in numbers :\n",
        "  newist.append(num)\n",
        "  print(new_list)"
      ],
      "metadata": {
        "colab": {
          "base_uri": "https://localhost:8080/"
        },
        "id": "DQzmBeQdF9L4",
        "outputId": "b35a2015-4936-4add-d608-430edb02afcb"
      },
      "execution_count": 15,
      "outputs": [
        {
          "output_type": "stream",
          "name": "stdout",
          "text": [
            "[]\n",
            "[]\n",
            "[]\n",
            "[]\n",
            "[]\n"
          ]
        }
      ]
    },
    {
      "cell_type": "code",
      "source": [
        "numbers = [1, 2, 3, 4, 5]\n",
        "new_list = []\n",
        "\n",
        "for num in numbers:\n",
        "    new_list.append(num ** 2)\n",
        "\n",
        "print(new_list)"
      ],
      "metadata": {
        "colab": {
          "base_uri": "https://localhost:8080/"
        },
        "id": "ph-SvyuBGxQh",
        "outputId": "f12af0a2-bf68-4017-ea92-87afa14a1067"
      },
      "execution_count": 16,
      "outputs": [
        {
          "output_type": "stream",
          "name": "stdout",
          "text": [
            "[1, 4, 9, 16, 25]\n"
          ]
        }
      ]
    },
    {
      "cell_type": "code",
      "source": [
        "# 두 수를 더하는 함수를 정의하고 호출"
      ],
      "metadata": {
        "id": "ovusHR-ZKj3u"
      },
      "execution_count": null,
      "outputs": []
    },
    {
      "cell_type": "code",
      "source": [
        "def square(x) :\n",
        "  result = x**2\n",
        "  return result"
      ],
      "metadata": {
        "id": "s2DUP99gLvql"
      },
      "execution_count": 17,
      "outputs": []
    },
    {
      "cell_type": "code",
      "source": [
        "ret=square(6)\n",
        "print(ret)"
      ],
      "metadata": {
        "colab": {
          "base_uri": "https://localhost:8080/"
        },
        "id": "DxubgExOL66o",
        "outputId": "fbc1b53c-b766-4268-bef7-6118695274f4"
      },
      "execution_count": 18,
      "outputs": [
        {
          "output_type": "stream",
          "name": "stdout",
          "text": [
            "36\n"
          ]
        }
      ]
    },
    {
      "cell_type": "code",
      "source": [
        "print(square(6))\n",
        "print(square(10))\n",
        "print(square(15))\n",
        "print(square(20))"
      ],
      "metadata": {
        "colab": {
          "base_uri": "https://localhost:8080/"
        },
        "id": "l_yDNcHEMOQ1",
        "outputId": "4be0cf20-7ea0-46a4-ef0f-e0d3a26f58f0"
      },
      "execution_count": 20,
      "outputs": [
        {
          "output_type": "stream",
          "name": "stdout",
          "text": [
            "36\n",
            "100\n",
            "225\n",
            "400\n"
          ]
        }
      ]
    },
    {
      "cell_type": "code",
      "source": [
        "1.new = square([1,2,3,4,5])\n",
        "print(new)"
      ],
      "metadata": {
        "colab": {
          "base_uri": "https://localhost:8080/",
          "height": 111
        },
        "id": "5Q-1rrUlMYYf",
        "outputId": "33d1a118-23ba-40a1-de62-ad2ed5162f43"
      },
      "execution_count": 21,
      "outputs": [
        {
          "output_type": "error",
          "ename": "SyntaxError",
          "evalue": "invalid decimal literal (<ipython-input-21-2ef322465b2a>, line 1)",
          "traceback": [
            "\u001b[0;36m  File \u001b[0;32m\"<ipython-input-21-2ef322465b2a>\"\u001b[0;36m, line \u001b[0;32m1\u001b[0m\n\u001b[0;31m    1.new = square([1,2,3,4,5])\u001b[0m\n\u001b[0m     ^\u001b[0m\n\u001b[0;31mSyntaxError\u001b[0m\u001b[0;31m:\u001b[0m invalid decimal literal\n"
          ]
        }
      ]
    },
    {
      "cell_type": "code",
      "source": [
        "def square(numbers):\n",
        "    \"\"\"리스트의 각 요소를 제곱하여 새로운 리스트를 반환하는 함수\"\"\"\n",
        "    squared_numbers = [num ** 2 for num in numbers]\n",
        "    return squared_numbers\n",
        "\n",
        "new = square([1, 2, 3, 4, 5])\n",
        "print(new)"
      ],
      "metadata": {
        "colab": {
          "base_uri": "https://localhost:8080/"
        },
        "id": "84nXzmztNDX0",
        "outputId": "1834b39f-c681-4d41-ef86-7698eccb3cd0"
      },
      "execution_count": 23,
      "outputs": [
        {
          "output_type": "stream",
          "name": "stdout",
          "text": [
            "[1, 4, 9, 16, 25]\n"
          ]
        }
      ]
    },
    {
      "cell_type": "code",
      "source": [
        "def square(numbers) :  # 함수 호출\n",
        "newist=[]\n",
        "for num in numbers :\n",
        "  newist.append(num**2)\n",
        "  return newist"
      ],
      "metadata": {
        "colab": {
          "base_uri": "https://localhost:8080/",
          "height": 111
        },
        "id": "EM8c_xIhN-oE",
        "outputId": "ad7544e4-cd01-44ff-9acd-be7a12dce605"
      },
      "execution_count": 24,
      "outputs": [
        {
          "output_type": "error",
          "ename": "IndentationError",
          "evalue": "expected an indented block after function definition on line 1 (<ipython-input-24-0c5ac4fa5e02>, line 2)",
          "traceback": [
            "\u001b[0;36m  File \u001b[0;32m\"<ipython-input-24-0c5ac4fa5e02>\"\u001b[0;36m, line \u001b[0;32m2\u001b[0m\n\u001b[0;31m    newist=[]\u001b[0m\n\u001b[0m    ^\u001b[0m\n\u001b[0;31mIndentationError\u001b[0m\u001b[0;31m:\u001b[0m expected an indented block after function definition on line 1\n"
          ]
        }
      ]
    },
    {
      "cell_type": "code",
      "source": [
        "def square(numbers):\n",
        "    \"\"\"리스트의 각 요소를 제곱하여 새로운 리스트를 반환하는 함수\"\"\"\n",
        "    new_list = []\n",
        "    for num in numbers:\n",
        "        new_list.append(num ** 2)\n",
        "    return new_list\n",
        "\n",
        "# 함수 호출\n",
        "result = square([1, 2, 3, 4, 5])\n",
        "print(result)"
      ],
      "metadata": {
        "colab": {
          "base_uri": "https://localhost:8080/"
        },
        "id": "jfpICe_jOV2E",
        "outputId": "4a7369d9-32b1-4ba0-982b-d5be22f0a253"
      },
      "execution_count": 25,
      "outputs": [
        {
          "output_type": "stream",
          "name": "stdout",
          "text": [
            "[1, 4, 9, 16, 25]\n"
          ]
        }
      ]
    },
    {
      "cell_type": "code",
      "source": [
        "1 def bmi(h,w) :\n",
        "2\n",
        "3\n",
        "4\n",
        "5 return\n"
      ],
      "metadata": {
        "colab": {
          "base_uri": "https://localhost:8080/",
          "height": 111
        },
        "id": "biY8iSCvPPTD",
        "outputId": "465adf6e-5c2b-4c5a-cb97-b5634eb2d3ba"
      },
      "execution_count": 27,
      "outputs": [
        {
          "output_type": "error",
          "ename": "SyntaxError",
          "evalue": "invalid syntax (<ipython-input-27-5166ad22675a>, line 1)",
          "traceback": [
            "\u001b[0;36m  File \u001b[0;32m\"<ipython-input-27-5166ad22675a>\"\u001b[0;36m, line \u001b[0;32m1\u001b[0m\n\u001b[0;31m    1 def bmi(h,w) :\u001b[0m\n\u001b[0m      ^\u001b[0m\n\u001b[0;31mSyntaxError\u001b[0m\u001b[0;31m:\u001b[0m invalid syntax\n"
          ]
        }
      ]
    },
    {
      "cell_type": "code",
      "source": [
        "1.결과=bmi(190,90)\n",
        "2.print(결과)"
      ],
      "metadata": {
        "colab": {
          "base_uri": "https://localhost:8080/",
          "height": 111
        },
        "id": "_Fh4gsTbO5kT",
        "outputId": "06225542-e7b5-4f59-af75-58751fcd7a84"
      },
      "execution_count": 28,
      "outputs": [
        {
          "output_type": "error",
          "ename": "SyntaxError",
          "evalue": "invalid decimal literal (<ipython-input-28-385d3d614c72>, line 1)",
          "traceback": [
            "\u001b[0;36m  File \u001b[0;32m\"<ipython-input-28-385d3d614c72>\"\u001b[0;36m, line \u001b[0;32m1\u001b[0m\n\u001b[0;31m    1.결과=bmi(190,90)\u001b[0m\n\u001b[0m     ^\u001b[0m\n\u001b[0;31mSyntaxError\u001b[0m\u001b[0;31m:\u001b[0m invalid decimal literal\n"
          ]
        }
      ]
    },
    {
      "cell_type": "code",
      "source": [
        "def calculate_bmi(weight, height):\n",
        "    \"\"\"\n",
        "    BMI를 계산하는 함수\n",
        "    :param weight: 체중(kg)\n",
        "    :param height: 키(m)\n",
        "    :return: BMI 값\n",
        "    \"\"\"\n",
        "    bmi = weight / (height ** 2)\n",
        "    return bmi\n",
        "\n",
        "# 사용자로부터 체중과 키를 입력받아 BMI를 계산\n",
        "weight = float(input(\"체중을 kg 단위로 입력하세요: \"))\n",
        "height = float(input(\"키를 미터 단위로 입력하세요: \"))\n",
        "\n",
        "bmi_result = calculate_bmi(weight, height)\n",
        "print(\"당신의 BMI는 {:.2f}입니다.\".format(bmi_result))"
      ],
      "metadata": {
        "colab": {
          "base_uri": "https://localhost:8080/"
        },
        "id": "3OMWiwngPN1T",
        "outputId": "27830ba4-dd5a-4fc2-c7f1-58a5974c01cd"
      },
      "execution_count": 30,
      "outputs": [
        {
          "output_type": "stream",
          "name": "stdout",
          "text": [
            "체중을 kg 단위로 입력하세요: 150\n",
            "키를 미터 단위로 입력하세요: 160\n",
            "당신의 BMI는 0.01입니다.\n"
          ]
        }
      ]
    }
  ]
}